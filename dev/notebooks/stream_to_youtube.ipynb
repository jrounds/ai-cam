{
 "cells": [
  {
   "cell_type": "code",
   "execution_count": null,
   "metadata": {},
   "outputs": [],
   "source": []
  },
  {
   "cell_type": "code",
   "execution_count": 1,
   "metadata": {},
   "outputs": [
    {
     "name": "stderr",
     "output_type": "stream",
     "text": [
      "\u001b[32m22:10:27\u001b[0m :: \u001b[1;35m   Helper    \u001b[0m :: \u001b[1;36m  INFO  \u001b[0m :: \u001b[1;37mRunning VidGear Version: 0.3.3\u001b[0m\n",
      "\u001b[32m22:10:27\u001b[0m :: \u001b[1;35m   CamGear   \u001b[0m :: \u001b[1;33m DEBUG  \u001b[0m :: \u001b[1;37mEnabling Threaded Queue Mode for the current video source!\u001b[0m\n"
     ]
    },
    {
     "ename": "AssertionError",
     "evalue": "[WriteGear:ERROR] :: The `output_filename` parameter has been renamed to `output`. Refer Docs for more info.",
     "output_type": "error",
     "traceback": [
      "\u001b[1;31m---------------------------------------------------------------------------\u001b[0m",
      "\u001b[1;31mAssertionError\u001b[0m                            Traceback (most recent call last)",
      "Cell \u001b[1;32mIn[1], line 39\u001b[0m\n\u001b[0;32m     36\u001b[0m YOUTUBE_STREAM_KEY \u001b[38;5;241m=\u001b[39m \u001b[38;5;124m\"\u001b[39m\u001b[38;5;124mxxxx-xxxx-xxxx-xxxx-xxxx\u001b[39m\u001b[38;5;124m\"\u001b[39m\n\u001b[0;32m     38\u001b[0m \u001b[38;5;66;03m# Define writer with defined parameters and\u001b[39;00m\n\u001b[1;32m---> 39\u001b[0m writer \u001b[38;5;241m=\u001b[39m \u001b[43mWriteGear\u001b[49m\u001b[43m(\u001b[49m\n\u001b[0;32m     40\u001b[0m \u001b[43m    \u001b[49m\u001b[43moutput_filename\u001b[49m\u001b[38;5;241;43m=\u001b[39;49m\u001b[38;5;124;43m\"\u001b[39;49m\u001b[38;5;124;43mrtmp://a.rtmp.youtube.com/live2/\u001b[39;49m\u001b[38;5;132;43;01m{}\u001b[39;49;00m\u001b[38;5;124;43m\"\u001b[39;49m\u001b[38;5;241;43m.\u001b[39;49m\u001b[43mformat\u001b[49m\u001b[43m(\u001b[49m\u001b[43mYOUTUBE_STREAM_KEY\u001b[49m\u001b[43m)\u001b[49m\u001b[43m,\u001b[49m\n\u001b[0;32m     41\u001b[0m \u001b[43m    \u001b[49m\u001b[43mlogging\u001b[49m\u001b[38;5;241;43m=\u001b[39;49m\u001b[38;5;28;43;01mTrue\u001b[39;49;00m\u001b[43m,\u001b[49m\n\u001b[0;32m     42\u001b[0m \u001b[43m    \u001b[49m\u001b[38;5;241;43m*\u001b[39;49m\u001b[38;5;241;43m*\u001b[39;49m\u001b[43moutput_params\u001b[49m\n\u001b[0;32m     43\u001b[0m \u001b[43m)\u001b[49m\n\u001b[0;32m     45\u001b[0m \u001b[38;5;66;03m# loop over\u001b[39;00m\n\u001b[0;32m     46\u001b[0m \u001b[38;5;28;01mwhile\u001b[39;00m \u001b[38;5;28;01mTrue\u001b[39;00m:\n\u001b[0;32m     47\u001b[0m \n\u001b[0;32m     48\u001b[0m     \u001b[38;5;66;03m# read frames from stream\u001b[39;00m\n",
      "File \u001b[1;32mc:\\Users\\round\\miniconda3\\envs\\cu124a\\Lib\\site-packages\\vidgear\\gears\\writegear.py:104\u001b[0m, in \u001b[0;36mWriteGear.__init__\u001b[1;34m(self, output, compression_mode, custom_ffmpeg, logging, **output_params)\u001b[0m\n\u001b[0;32m    100\u001b[0m logcurr_vidgear_ver(logging\u001b[38;5;241m=\u001b[39m\u001b[38;5;28mself\u001b[39m\u001b[38;5;241m.\u001b[39m__logging)\n\u001b[0;32m    102\u001b[0m \u001b[38;5;66;03m# check if user not using depreciated `output_filename` parameter\u001b[39;00m\n\u001b[0;32m    103\u001b[0m \u001b[38;5;28;01massert\u001b[39;00m (\n\u001b[1;32m--> 104\u001b[0m     \u001b[38;5;129;01mnot\u001b[39;00m \u001b[38;5;124m\"\u001b[39m\u001b[38;5;124moutput_filename\u001b[39m\u001b[38;5;124m\"\u001b[39m \u001b[38;5;129;01min\u001b[39;00m output_params\n\u001b[0;32m    105\u001b[0m ), \u001b[38;5;124m\"\u001b[39m\u001b[38;5;124m[WriteGear:ERROR] :: The `output_filename` parameter has been renamed to `output`. Refer Docs for more info.\u001b[39m\u001b[38;5;124m\"\u001b[39m\n\u001b[0;32m    107\u001b[0m \u001b[38;5;66;03m# assign parameter values to class variables\u001b[39;00m\n\u001b[0;32m    108\u001b[0m \u001b[38;5;66;03m# enables compression if enabled\u001b[39;00m\n\u001b[0;32m    109\u001b[0m \u001b[38;5;28mself\u001b[39m\u001b[38;5;241m.\u001b[39m__compression \u001b[38;5;241m=\u001b[39m (\n\u001b[0;32m    110\u001b[0m     compression_mode \u001b[38;5;28;01mif\u001b[39;00m \u001b[38;5;28misinstance\u001b[39m(compression_mode, \u001b[38;5;28mbool\u001b[39m) \u001b[38;5;28;01melse\u001b[39;00m \u001b[38;5;28;01mFalse\u001b[39;00m\n\u001b[0;32m    111\u001b[0m )\n",
      "\u001b[1;31mAssertionError\u001b[0m: [WriteGear:ERROR] :: The `output_filename` parameter has been renamed to `output`. Refer Docs for more info."
     ]
    }
   ],
   "source": [
    "\n",
    "\n",
    "VIDEO_SOURCE=\"IMG_6292.MOV\"\n",
    "\n",
    "import os\n",
    "import dotenv\n",
    "# import required libraries\n",
    "from vidgear.gears import CamGear\n",
    "from vidgear.gears import WriteGear\n",
    "import cv2\n",
    "import logging\n",
    "logging.basicConfig(level=logging.INFO, format=\"[%(asctime)s] [%(levelname)s] %(message)s\")\n",
    "\n",
    "dotenv.load_dotenv()\n",
    "YOUTUBE_STREAM_KEY = os.getenv(\"YOUTUBE_STREAM_KEY\")\n",
    "print(\"Got %s stream key\" % YOUTUBE_STREAM_KEY)\n",
    "\n",
    "# define video source\n",
    "\n",
    "# Open stream\n",
    "stream = CamGear(source=VIDEO_SOURCE, logging=True).start()\n",
    "\n",
    "# define required FFmpeg optimizing parameters for your writer\n",
    "# [NOTE]: Added VIDEO_SOURCE as audio-source\n",
    "# [WARNING]: VIDEO_SOURCE must contain audio\n",
    "output_params = {\n",
    "    \"-i\": VIDEO_SOURCE,\n",
    "    \"-acodec\": \"aac\",\n",
    "    \"-ar\": 44100,\n",
    "    \"-b:a\": 712000,\n",
    "    \"-vcodec\": \"libx264\",\n",
    "    \"-preset\": \"medium\",\n",
    "    \"-b:v\": \"4500k\",\n",
    "    \"-bufsize\": \"512k\",\n",
    "    \"-pix_fmt\": \"yuv420p\",\n",
    "    \"-f\": \"flv\",\n",
    "}\n",
    "\n",
    "\n",
    "\n",
    "# Define writer with defined parameters and\n",
    "writer = WriteGear(\n",
    "    output=\"rtmp://a.rtmp.youtube.com/live2/{}\".format(YOUTUBE_STREAM_KEY),\n",
    "    logging=True,\n",
    "    **output_params\n",
    ")\n",
    "\n",
    "# loop over\n",
    "while True:\n",
    "\n",
    "    # read frames from stream\n",
    "    frame = stream.read()\n",
    "\n",
    "    # check for frame if Nonetype\n",
    "    if frame is None:\n",
    "        break\n",
    "\n",
    "    # {do something with the frame here}\n",
    "\n",
    "    # write frame to writer\n",
    "    writer.write(frame)\n",
    "\n",
    "# safely close video stream\n",
    "stream.stop()\n",
    "\n",
    "# safely close writer\n",
    "writer.close()"
   ]
  }
 ],
 "metadata": {
  "kernelspec": {
   "display_name": "cu124a",
   "language": "python",
   "name": "python3"
  },
  "language_info": {
   "codemirror_mode": {
    "name": "ipython",
    "version": 3
   },
   "file_extension": ".py",
   "mimetype": "text/x-python",
   "name": "python",
   "nbconvert_exporter": "python",
   "pygments_lexer": "ipython3",
   "version": "3.11.11"
  }
 },
 "nbformat": 4,
 "nbformat_minor": 2
}
