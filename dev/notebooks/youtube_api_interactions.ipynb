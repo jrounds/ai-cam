{
 "cells": [
  {
   "cell_type": "code",
   "execution_count": null,
   "metadata": {},
   "outputs": [],
   "source": [
    "import os\n",
    "from google.oauth2 import service_account\n",
    "from googleapiclient.discovery import build\n",
    "from dotenv import load_dotenv\n",
    "\n",
    "# Load secret keys from .env file\n",
    "load_dotenv()\n",
    "\n",
    "# Set up the YouTube API client\n",
    "def get_youtube_service():\n",
    "    credentials = service_account.Credentials.from_service_account_file(\n",
    "        os.getenv('AI_CAM_APPLICATION_CREDENTIALS')\n",
    "    )\n",
    "    youtube = build('youtube', 'v3', credentials=credentials)\n",
    "    return youtube\n",
    "\n",
    "# Example usage\n",
    "youtube = get_youtube_service()"
   ]
  },
  {
   "cell_type": "code",
   "execution_count": null,
   "metadata": {},
   "outputs": [],
   "source": [
    "pip install google-auth google-auth-oauthlib google-auth-httplib2 google-api-python-client python-dotenv\n"
   ]
  }
 ],
 "metadata": {
  "kernelspec": {
   "display_name": "cu124a",
   "language": "python",
   "name": "python3"
  },
  "language_info": {
   "name": "python",
   "version": "3.11.11"
  }
 },
 "nbformat": 4,
 "nbformat_minor": 2
}
